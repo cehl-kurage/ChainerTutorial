{
 "cells": [
  {
   "cell_type": "markdown",
   "metadata": {},
   "source": [
    "## \"4. 微分の基礎\" の演習問題\n",
    "\n",
    "ここからは、紙と鉛筆を用意してください。\n",
    "\n",
    "### 問4.1 (導関数)\n",
    "導関数の定義 $f'(x) = \\lim_{h \\rightarrow 0} \\frac{f(x+h)-f(x)}{h}$ を用いて以下の関数 $f_1(x), f_2(x)$ の導関数 $f^{'}_1(x), f^{'}_2(x)$ をそれぞれ求めて下さい。\n",
    "\n",
    "* $f_1(x) = x^3$.\n",
    "* $f_2(x) = \\sqrt{x}$. (ヒント: 分母と分子に $(\\sqrt{x+h}+\\sqrt{x})$ を掛けて式を整理してみて下さい)"
   ]
  },
  {
   "cell_type": "markdown",
   "metadata": {},
   "source": [
    "### 問4.2 (線形性)\n",
    "微分の線形性 $\\left( cf(x) \\right)^{'} = c f'(x)$, $\\left( f(x) + g(x) \\right)^{'} = f^{'}(x) + g^{'}(x)$ を用いて、以下の関数の導関数を求めて下さい。\n",
    "\n",
    "* $f_1(x) = 2x^2-5x+1$\n",
    "* $f_2(x) = \\sum_{k=1}^{123} (k^2+1)x^k$"
   ]
  },
  {
   "cell_type": "markdown",
   "metadata": {},
   "source": [
    "### 問4.3 (積の微分)\n",
    "積の微分 $\\bigl( f(x) \\cdot g(x) \\bigr)^{'} = f^{'}(x)g(x) + f(x)g^{'}(x)$ を使って以下の関数を微分して下さい。\n",
    "\n",
    "* $f_1(x) = x \\cdot x$.\n",
    "* $f_2(x) = x \\cdot x^2$.\n",
    "* $f_3(x) = x \\cdot x^3$.\n",
    "\n",
    "これを繰り返していくと、$g(x) = x^{100}$ に対して $g^{'}(x) = 100x^{99}$ などが成り立つことを確かめて下さい。"
   ]
  },
  {
   "cell_type": "markdown",
   "metadata": {},
   "source": [
    "### 問4.4 (合成関数の微分)\n",
    "合成関数の微分則 $\\frac{d}{dx} f(g(x)) = \\frac{df(u)}{du}\\frac{du}{dx}$ ($u=g(x)$) を使って以下の関数を微分して下さい。\n",
    "\n",
    "* $f_1(x) = (x+1)^3$.\n",
    "* $f_2(x) = (4x)^3$.\n",
    "* $f_3(x) = \\exp(2x-1)$.\n",
    "* $f_4(x) = \\exp(-x^2)$.\n",
    "* $f_5(x) = 2^x$.  (ヒント: $2^x = \\exp(\\log(2) x)$ を利用しましょう)"
   ]
  },
  {
   "cell_type": "markdown",
   "metadata": {},
   "source": [
    "### 問4.5 (合成関数の微分)\n",
    "$f(x) = x^2 + 1$, $g(x) = f(f(x))$ とします。\n",
    "\n",
    "(1) $g(x) = x^4 + 2x^2 + 2$ となることを確認して下さい。また、これより $g'(x) = 4x^3 + 4x$ となることを確認して下さい。\n",
    "\n",
    "(2) 一方で、合成関数の微分則によって $g'(x)$ を計算し、(1) で求めた導関数と一致することを確認して下さい。\n",
    "\n",
    "(3) $h(x) = f(f(f(x)))$ とします。合成関数の微分によって $h'(x)$ を計算して下さい。(ヒント: $h(x)=f(g(x))$ であることを利用しましょう)"
   ]
  },
  {
   "cell_type": "markdown",
   "metadata": {},
   "source": [
    "### 問4.6 (指数関数・対数関数)\n",
    "指数関数 $\\exp(x)$ と対数関数 $\\log(x)$ の導関数は以下で定まります。\n",
    "\n",
    "$$\n",
    "\\begin{align}\n",
    "\\exp^{'}(x) &= \\exp(x). \\\\\n",
    "\\log^{'}(x) &= \\frac{1}{x}. \\\\\n",
    "\\end{align}\n",
    "$$\n",
    "\n",
    "このことをプログラムを用いた実験によって確認してみましょう。\n",
    "**数値微分**は導関数を近似的に計算する手法です。導関数の定義\n",
    "\n",
    "$$f^{'}(x) = \\lim_{h \\rightarrow 0} \\frac{f(x+h)-f(x)}{h}$$\n",
    "\n",
    "において、極限を取る代わりにある微小な値 $\\Delta h$ を $h$ に代入し、\n",
    "\n",
    "$$\n",
    "f'(x) \\approx \\frac{f(x+\\Delta h)-f(x)}{\\Delta h}\n",
    "$$\n",
    "\n",
    "として計算することによって導関数の値を近似する方法が数値微分です。具体的な $x$ の値に対する $\\exp(x)$ の微分を数値微分によって計算するコードは以下のようになります。\n",
    "\n",
    "```python\n",
    "import math  # exp を呼び出すために math モジュールをインポート\n",
    "\n",
    "def f(x):\n",
    "    return math.exp(x)\n",
    "\n",
    "def dfdx_approx(x):\n",
    "    dh = 0.0001\n",
    "    return (f(x + dh) - f(x)) / dh\n",
    "```\n",
    "\n",
    "(1) `x=-3,-2,-1,0,1,2,3` に対して数値微分の関数 `dfdx_approx` を呼び出し、その結果得られた値と正確な微分の値($\\exp^{'}(-3),\\ldots,\\exp^{'}(3)$)とを比較して下さい。\n",
    "\n",
    "(2) 対数関数 $\\log(x)$ についても同様の実験を行い、`x=0.25,0.5,1,2,4,8` に対して比較して下さい。Python から対数関数を呼び出す場合、`math.log` を使用しましょう。"
   ]
  },
  {
   "cell_type": "code",
   "execution_count": null,
   "metadata": {},
   "outputs": [],
   "source": [
    "# ここにコードを書いてください\n"
   ]
  },
  {
   "cell_type": "markdown",
   "metadata": {},
   "source": [
    "### 問4.7 (ニューラルネットワークの関数の微分)\n",
    "ニューラルネットワークのモデルでよく扱われる関数の導関数を計算してみましょう。\n",
    "\n",
    "* $\\mathrm{ReLU}(x) = \\max(x, 0)$.\n",
    "* $\\tanh(x) = \\frac{e^x - e^{-x}}{e^x + e^{-x}}$.  (注意: 商の微分則 $\\bigl(\\frac{f(x)}{g(x)}\\bigr)^{'}=\\frac{f^{'}(x)g(x)-f(x)g^{'}(x)}{g(x)^2}$ を用いましょう)\n",
    "* $\\mathrm{Sigmoid}(x) = \\frac{1}{1 + e^{-x}}$.\n",
    "* $\\mathrm{Softplus}(x) = \\log(1+e^x)$."
   ]
  },
  {
   "cell_type": "markdown",
   "metadata": {},
   "source": [
    "### 問4.8 (偏微分)\n",
    "(1) 2変数関数 $f(x, y) = |x| + |y|$ に対して偏微分 $\\frac{\\partial}{\\partial x}f(x,y)$, $\\frac{\\partial}{\\partial y}f(x,y)$ を求めて下さい。\n",
    "\n",
    "(2) 2変数関数 $f(x, y) = |x + y|$ に対して偏微分 $\\frac{\\partial}{\\partial x}f(x,y)$, $\\frac{\\partial}{\\partial y}f(x,y)$ を求めて下さい。"
   ]
  }
 ],
 "metadata": {
  "kernelspec": {
   "display_name": "Python 3",
   "language": "python",
   "name": "python3"
  },
  "language_info": {
   "name": "python",
   "version": "3.11.1 (main, Dec 17 2022, 18:26:28) [GCC 9.4.0]"
  },
  "orig_nbformat": 4,
  "vscode": {
   "interpreter": {
    "hash": "b1e51fb100c183cd216cb2810497761ef2f2b4cf86253a068f89ee6d296d1860"
   }
  }
 },
 "nbformat": 4,
 "nbformat_minor": 2
}
